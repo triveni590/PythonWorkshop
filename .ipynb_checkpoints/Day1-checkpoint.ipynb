{
 "cells": [
  {
   "cell_type": "markdown",
   "metadata": {},
   "source": [
    "# Bullet Points\n",
    "* Language\n",
    "    - cLang\n",
    "    + Python\n",
    "    * Java\n",
    "- Webpages\n",
    "    + Html\n",
    "    - css\n",
    "    - Js"
   ]
  },
  {
   "cell_type": "markdown",
   "metadata": {},
   "source": [
    "# Backtrick\n",
    "welcome to `python` workshop"
   ]
  },
  {
   "cell_type": "markdown",
   "metadata": {},
   "source": [
    "# Block Quotes\n",
    "> welcome\n",
    "> Python"
   ]
  },
  {
   "cell_type": "markdown",
   "metadata": {},
   "source": [
    "# Link\n",
    ".[paceCollege].(https://pace.ac.in)"
   ]
  },
  {
   "cell_type": "markdown",
   "metadata": {},
   "source": [
    "# Link\n",
    ".[paceCollege](https://pace.ac.in)"
   ]
  },
  {
   "cell_type": "markdown",
   "metadata": {},
   "source": [
    "# Python programming\n",
    "# Introduction to Python\n",
    "# History of Python\n",
    "# Features of Python\n",
    "# Keywords or Reservedwords in Python\n",
    "# Operators in Python"
   ]
  },
  {
   "cell_type": "markdown",
   "metadata": {},
   "source": [
    "# Introduction to Python\n",
    "\n",
    "### In Python We have 5 different keys\n",
    "\n",
    "    + HighLevel Language\n",
    "    + Object oriented programming(oops)\n",
    "    + Interpreted\n",
    "    + DynamicProgramming\n",
    "    + Multilevel Programming\n"
   ]
  },
  {
   "cell_type": "markdown",
   "metadata": {},
   "source": [
    "# Bold\n",
    "*clang\n",
    "**python"
   ]
  },
  {
   "cell_type": "code",
   "execution_count": 1,
   "metadata": {},
   "outputs": [
    {
     "data": {
      "text/plain": [
       "int"
      ]
     },
     "execution_count": 1,
     "metadata": {},
     "output_type": "execute_result"
    }
   ],
   "source": [
    "a=10\n",
    "type(a)"
   ]
  },
  {
   "cell_type": "code",
   "execution_count": 2,
   "metadata": {},
   "outputs": [
    {
     "data": {
      "text/plain": [
       "30"
      ]
     },
     "execution_count": 2,
     "metadata": {},
     "output_type": "execute_result"
    }
   ],
   "source": [
    "a=10\n",
    "b=20\n",
    "a+b"
   ]
  },
  {
   "cell_type": "code",
   "execution_count": 3,
   "metadata": {},
   "outputs": [
    {
     "data": {
      "text/plain": [
       "float"
      ]
     },
     "execution_count": 3,
     "metadata": {},
     "output_type": "execute_result"
    }
   ],
   "source": [
    "b=2.5\n",
    "type(b)"
   ]
  },
  {
   "cell_type": "code",
   "execution_count": 6,
   "metadata": {},
   "outputs": [
    {
     "data": {
      "text/plain": [
       "str"
      ]
     },
     "execution_count": 6,
     "metadata": {},
     "output_type": "execute_result"
    }
   ],
   "source": [
    "c=\"Triveni\"\n",
    "type(c)"
   ]
  },
  {
   "cell_type": "code",
   "execution_count": 7,
   "metadata": {},
   "outputs": [
    {
     "data": {
      "text/plain": [
       "bool"
      ]
     },
     "execution_count": 7,
     "metadata": {},
     "output_type": "execute_result"
    }
   ],
   "source": [
    "d=True\n",
    "type(d)"
   ]
  },
  {
   "cell_type": "code",
   "execution_count": 9,
   "metadata": {},
   "outputs": [
    {
     "data": {
      "text/plain": [
       "int"
      ]
     },
     "execution_count": 9,
     "metadata": {},
     "output_type": "execute_result"
    }
   ],
   "source": [
    "a=\"10\"\n",
    "b=int(a)\n",
    "type(b)"
   ]
  },
  {
   "cell_type": "markdown",
   "metadata": {},
   "source": [
    "# History of Python\n",
    "\n",
    "## Monty `Python` Fly circus\n",
    "\n",
    "+ In 1989 started Implimentation of python\n",
    "+ In 1991 Implimented 0.9 version\n",
    "+ In 1994 Implimented 1.0 version with features of lambda,map,filter,reduce\n",
    "+ In 2000 Implimented 2.0 version with features of datastructures Like List,Tuples,Dictionary,sets....etc\n",
    "+ In 2008 Republished 3.0 version with features large no of libraries,garbagecollection And Fastworking Updating\n",
    "\n",
    "\n",
    "# Features of Python\n",
    "\n",
    "+ Easy to Learn & Easy to write\n",
    "+ crossplatform\n",
    "+ Scalable\n",
    "+ Portable\n",
    "- Scripting"
   ]
  },
  {
   "cell_type": "markdown",
   "metadata": {},
   "source": [
    "Comparing versions\n",
    "\n",
    "Firstversion and second version print statement is\n",
    "\n",
    "print a+b\n",
    "\n",
    "by using input method\n",
    "\n",
    "raw_input()\n",
    "\n",
    "in 3rd version\n",
    "\n",
    "print(a+b)\n",
    "\n",
    "input()"
   ]
  },
  {
   "cell_type": "markdown",
   "metadata": {},
   "source": [
    "for var in range(10) In Python\n",
    "{% for i in range(10) %} in html"
   ]
  },
  {
   "cell_type": "code",
   "execution_count": 12,
   "metadata": {},
   "outputs": [
    {
     "data": {
      "text/plain": [
       "['False',\n",
       " 'None',\n",
       " 'True',\n",
       " 'and',\n",
       " 'as',\n",
       " 'assert',\n",
       " 'async',\n",
       " 'await',\n",
       " 'break',\n",
       " 'class',\n",
       " 'continue',\n",
       " 'def',\n",
       " 'del',\n",
       " 'elif',\n",
       " 'else',\n",
       " 'except',\n",
       " 'finally',\n",
       " 'for',\n",
       " 'from',\n",
       " 'global',\n",
       " 'if',\n",
       " 'import',\n",
       " 'in',\n",
       " 'is',\n",
       " 'lambda',\n",
       " 'nonlocal',\n",
       " 'not',\n",
       " 'or',\n",
       " 'pass',\n",
       " 'raise',\n",
       " 'return',\n",
       " 'try',\n",
       " 'while',\n",
       " 'with',\n",
       " 'yield']"
      ]
     },
     "execution_count": 12,
     "metadata": {},
     "output_type": "execute_result"
    }
   ],
   "source": [
    "# Keywords or Reserved words in Python\n",
    "import keyword\n",
    "\n",
    "dir(keyword)\n",
    "keyword.kwlist"
   ]
  },
  {
   "cell_type": "code",
   "execution_count": null,
   "metadata": {},
   "outputs": [],
   "source": [
    "in generators yield keyword\n",
    "\n",
    "in iterators iter buitin function"
   ]
  },
  {
   "cell_type": "code",
   "execution_count": null,
   "metadata": {},
   "outputs": [
    {
     "name": "stdout",
     "output_type": "stream",
     "text": [
      "\n",
      "Welcome to Python 3.8's help utility!\n",
      "\n",
      "If this is your first time using Python, you should definitely check out\n",
      "the tutorial on the Internet at https://docs.python.org/3.8/tutorial/.\n",
      "\n",
      "Enter the name of any module, keyword, or topic to get help on writing\n",
      "Python programs and using Python modules.  To quit this help utility and\n",
      "return to the interpreter, just type \"quit\".\n",
      "\n",
      "To get a list of available modules, keywords, symbols, or topics, type\n",
      "\"modules\", \"keywords\", \"symbols\", or \"topics\".  Each module also comes\n",
      "with a one-line summary of what it does; to list the modules whose name\n",
      "or summary contain a given string such as \"spam\", type \"modules spam\".\n",
      "\n",
      "help> modules\n",
      "\n",
      "Please wait a moment while I gather a list of all available modules...\n",
      "\n"
     ]
    },
    {
     "name": "stderr",
     "output_type": "stream",
     "text": [
      "C:\\ProgramData\\Anaconda3new\\lib\\site-packages\\IPython\\kernel\\__init__.py:12: ShimWarning: The `IPython.kernel` package has been deprecated since IPython 4.0.You should import from ipykernel or jupyter_client instead.\n",
      "  warn(\"The `IPython.kernel` package has been deprecated since IPython 4.0.\"\n",
      "C:\\ProgramData\\Anaconda3new\\lib\\pkgutil.py:92: MatplotlibDeprecationWarning: \n",
      "The matplotlib.compat module was deprecated in Matplotlib 3.3 and will be removed two minor releases later.\n",
      "  __import__(info.name)\n",
      "C:\\ProgramData\\Anaconda3new\\lib\\site-packages\\nltk\\twitter\\__init__.py:21: UserWarning: The twython library has not been installed. Some functionality from the twitter package will not be available.\n",
      "  warnings.warn(\n",
      "C:\\ProgramData\\Anaconda3new\\lib\\site-packages\\skimage\\viewer\\utils\\__init__.py:1: UserWarning: Recommended matplotlib backend is `Agg` for full skimage.viewer functionality.\n",
      "  from .core import *\n",
      "C:\\ProgramData\\Anaconda3new\\lib\\site-packages\\qtawesome\\iconic_font.py:311: UserWarning: You need to have a running QApplication to use QtAwesome!\n",
      "  warnings.warn(\"You need to have a running \"\n",
      "C:\\ProgramData\\Anaconda3new\\lib\\pkgutil.py:107: VisibleDeprecationWarning: zmq.eventloop.minitornado is deprecated in pyzmq 14.0 and will be removed.\n",
      "    Install tornado itself to use zmq with the tornado IOLoop.\n",
      "    \n",
      "  yield from walk_packages(path, info.name+'.', onerror)\n"
     ]
    },
    {
     "name": "stdout",
     "output_type": "stream",
     "text": [
      "Cython              brain_responses     marshal             socketserver\n",
      "IPython             brain_scipy_signal  math                socks\n",
      "OpenSSL             brain_six           matplotlib          sockshandler\n",
      "PIL                 brain_ssl           mccabe              sortedcollections\n",
      "PyQt5               brain_subprocess    menuinst            sortedcontainers\n",
      "__future__          brain_threading     mimetypes           soupsieve\n",
      "_abc                brain_typing        mistune             sphinx\n",
      "_ast                brain_uuid          mkl                 sphinxcontrib\n",
      "_asyncio            brotli              mkl_fft             spyder\n",
      "_bisect             bs4                 mkl_random          spyder_kernels\n",
      "_blake2             builtins            mmap                sqlalchemy\n",
      "_bootlocale         bz2                 mmapfile            sqlite3\n",
      "_bz2                cProfile            mmsystem            sre_compile\n",
      "_cffi_backend       calendar            mock                sre_constants\n",
      "_codecs             certifi             modulefinder        sre_parse\n",
      "_codecs_cn          cffi                more_itertools      ssl\n",
      "_codecs_hk          cgi                 mpmath              sspi\n",
      "_codecs_iso2022     cgitb               msgpack             sspicon\n",
      "_codecs_jp          chardet             msilib              stat\n",
      "_codecs_kr          chunk               msvcrt              statistics\n",
      "_codecs_tw          click               multipledispatch    statsmodels\n",
      "_collections        cloudpickle         multiprocessing     storemagic\n",
      "_collections_abc    clyent              nacl                string\n",
      "_compat_pickle      cmath               navigator_updater   stringprep\n",
      "_compression        cmd                 nbclient            struct\n",
      "_contextvars        code                nbconvert           subprocess\n",
      "_csv                codecs              nbformat            sunau\n",
      "_ctypes             codeop              nest_asyncio        symbol\n",
      "_ctypes_test        collections         netbios             sympy\n",
      "_datetime           colorama            netrc               sympyprinting\n",
      "_decimal            colorsys            networkx            symtable\n",
      "_distutils_hack     commctrl            nltk                sys\n",
      "_dummy_thread       compileall          nntplib             sysconfig\n",
      "_elementtree        comtypes            nose                tables\n",
      "_functools          concurrent          notebook            tabnanny\n",
      "_hashlib            conda               nt                  tarfile\n",
      "_heapq              conda_build         ntpath              tblib\n",
      "_imp                conda_env           ntsecuritycon       telnetlib\n",
      "_io                 conda_package_handling nturl2path          tempfile\n",
      "_json               conda_verify        numba               terminado\n",
      "_locale             configparser        numbers             test\n",
      "_lsprof             contextlib          numexpr             test_data\n",
      "_lzma               contextlib2         numpy               test_pycosat\n",
      "_markupbase         contextvars         numpydoc            testpath\n",
      "_md5                copy                odbc                tests\n",
      "_msi                copyreg             olefile             textwrap\n",
      "_multibytecodec     crypt               opcode              this\n",
      "_multiprocessing    cryptography        openpyxl            threading\n",
      "_nsis               csv                 operator            threadpoolctl\n",
      "_opcode             ctypes              optparse            tifffile\n",
      "_operator           curl                os                  time\n",
      "_osx_support        curses              packaging           timeit\n",
      "_overlapped         cwp                 pandas              timer\n",
      "_pickle             cycler              pandocfilters       tkinter\n",
      "_py_abc             cython              paramiko            tlz\n",
      "_pydecimal          cythonmagic         parser              token\n",
      "_pyio               cytoolz             parso               tokenize\n",
      "_pyrsistent_version dask                partd               toml\n",
      "_pytest             dataclasses         past                toolz\n",
      "_queue              datetime            path                tornado\n",
      "_random             dateutil            pathlib             tqdm\n",
      "_sha1               dbi                 pathlib2            trace\n",
      "_sha256             dbm                 pathtools           traceback\n",
      "_sha3               dde                 patsy               tracemalloc\n",
      "_sha512             decimal             pdb                 traitlets\n",
      "_signal             decorator           pep8                tty\n",
      "_sitebuiltins       defusedxml          perfmon             turtle\n",
      "_socket             diff_match_patch    pexpect             turtledemo\n",
      "_sqlite3            difflib             pickle              types\n",
      "_sre                dis                 pickleshare         typing\n",
      "_ssl                distributed         pickletools         typing_extensions\n",
      "_stat               distutils           pip                 ujson\n",
      "_statistics         doctest             pipes               unicodecsv\n",
      "_string             docutils            pkg_resources       unicodedata\n",
      "_strptime           dummy_threading     pkginfo             unittest\n",
      "_struct             easy_install        pkgutil             urllib\n",
      "_symtable           email               platform            urllib3\n",
      "_system_path        encodings           plistlib            uu\n",
      "_testbuffer         ensurepip           pluggy              uuid\n",
      "_testcapi           entrypoints         ply                 venv\n",
      "_testconsole        enum                poplib              warnings\n",
      "_testimportmultiple errno               posixpath           watchdog\n",
      "_testinternalcapi   et_xmlfile          pprint              wave\n",
      "_testmultiphase     fastcache           profile             wcwidth\n",
      "_thread             faulthandler        prometheus_client   weakref\n",
      "_threading_local    filecmp             prompt_toolkit      webbrowser\n",
      "_tkinter            fileinput           pstats              webencodings\n",
      "_tracemalloc        filelock            psutil              werkzeug\n",
      "_warnings           flake8              pty                 wheel\n",
      "_weakref            flask               pvectorc            widgetsnbextension\n",
      "_weakrefset         fnmatch             py                  win2kras\n",
      "_win32sysloader     formatter           py_compile          win32api\n",
      "_winapi             fractions           pyclbr              win32clipboard\n",
      "_winxptheme         fsspec              pycodestyle         win32com\n",
      "_xxsubinterpreters  ftplib              pycosat             win32con\n",
      "_yaml               functools           pycparser           win32console\n",
      "abc                 future              pycurl              win32cred\n",
      "adodbapi            gc                  pydoc               win32crypt\n",
      "afxres              genericpath         pydoc_data          win32cryptcon\n",
      "aifc                getopt              pydocstyle          win32ctypes\n",
      "alabaster           getpass             pyexpat             win32event\n",
      "anaconda_navigator  gettext             pyflakes            win32evtlog\n",
      "anaconda_project    gevent              pygments            win32evtlogutil\n",
      "antigravity         glob                pylab               win32file\n",
      "argh                glob2               pylint              win32gui\n",
      "argon2              greenlet            pyls                win32gui_struct\n",
      "argparse            gzip                pyls_jsonrpc        win32help\n",
      "array               h5py                pyodbc              win32inet\n",
      "asn1crypto          hashlib             pyparsing           win32inetcon\n",
      "ast                 heapdict            pyreadline          win32job\n",
      "astroid             heapq               pyrsistent          win32lz\n",
      "astropy             hmac                pytest              win32net\n",
      "async_generator     html                pythoncom           win32netcon\n",
      "asynchat            html5lib            pytz                win32pdh\n",
      "asyncio             http                pywin               win32pdhquery\n",
      "asyncore            idlelib             pywin32_bootstrap   win32pdhutil\n",
      "atexit              idna                pywin32_testutil    win32pipe\n",
      "atomicwrites        imageio             pywintypes          win32print\n",
      "attr                imagesize           pywt                win32process\n",
      "audioop             imaplib             pyximport           win32profile\n",
      "autopep8            imghdr              qdarkstyle          win32ras\n",
      "autoreload          imp                 qtawesome           win32rcparser\n",
      "babel               importlib           qtconsole           win32security\n",
      "backcall            importlib_metadata  qtpy                win32service\n",
      "backports           iniconfig           queue               win32serviceutil\n",
      "base64              inspect             quopri              win32timezone\n",
      "bcrypt              intervaltree        random              win32trace\n",
      "bdb                 io                  rasutil             win32traceutil\n",
      "binascii            ipaddress           re                  win32transaction\n",
      "binhex              ipykernel           readline            win32ts\n",
      "binstar_client      ipykernel_launcher  regcheck            win32ui\n",
      "bisect              ipython_genutils    regex               win32uiole\n",
      "bitarray            ipywidgets          regutil             win32verstamp\n",
      "bkcharts            isapi               reprlib             win32wnet\n",
      "bleach              isort               requests            win_inet_pton\n",
      "bokeh               isympy              rlcompleter         win_unicode_console\n",
      "boto                itertools           rmagic              wincertstore\n",
      "bottleneck          itsdangerous        rope                winerror\n",
      "brain_argparse      jdcal               rtree               winioctlcon\n",
      "brain_attrs         jedi                ruamel_yaml         winnt\n",
      "brain_boto3         jinja2              run                 winperf\n",
      "brain_builtin_inference joblib              runpy               winpty\n",
      "brain_collections   json                sched               winreg\n",
      "brain_crypt         json5               scipy               winsound\n",
      "brain_curses        jsonschema          scripts             winxpgui\n",
      "brain_dataclasses   jupyter             seaborn             winxptheme\n",
      "brain_dateutil      jupyter_client      secrets             wrapt\n",
      "brain_fstrings      jupyter_console     select              wsgiref\n",
      "brain_functools     jupyter_core        selectors           xdrlib\n",
      "brain_gi            jupyterlab          send2trash          xlrd\n",
      "brain_hashlib       jupyterlab_pygments servicemanager      xlsxwriter\n",
      "brain_http          jupyterlab_server   setuptools          xlwings\n",
      "brain_io            keyring             shelve              xlwt\n",
      "brain_mechanize     keyword             shlex               xml\n",
      "brain_multiprocessing kiwisolver          shutil              xmlrpc\n",
      "brain_namedtuple_enum lazy_object_proxy   signal              xmltodict\n",
      "brain_nose          lib2to3             simplegeneric       xxsubtype\n",
      "brain_numpy_core_fromnumeric libarchive          singledispatch      yaml\n",
      "brain_numpy_core_function_base libfuturize         singledispatch_helpers yapf\n",
      "brain_numpy_core_multiarray libpasteurize       sip                 yapftests\n",
      "brain_numpy_core_numeric lief                sipconfig           zict\n",
      "brain_numpy_core_numerictypes linecache           sipdistutils        zipapp\n",
      "brain_numpy_core_umath llvmlite            site                zipfile\n",
      "brain_numpy_ndarray locale              six                 zipimport\n",
      "brain_numpy_random_mtrand locket              skimage             zipp\n",
      "brain_numpy_utils   logging             sklearn             zlib\n",
      "brain_pkg_resources lxml                smtpd               zmq\n",
      "brain_pytest        lzma                smtplib             zope\n",
      "brain_qt            mailbox             sndhdr              \n",
      "brain_random        mailcap             snowballstemmer     \n",
      "brain_re            markupsafe          socket              \n",
      "\n",
      "Enter any module name to get more help.  Or, type \"modules spam\" to search\n",
      "for modules whose name or summary contain the string \"spam\".\n",
      "\n"
     ]
    }
   ],
   "source": [
    "help()"
   ]
  },
  {
   "cell_type": "markdown",
   "metadata": {},
   "source": [
    "# Operators\n",
    "\n",
    "+ Arthematic Operator (+,-,*,/,%,**,//)\n",
    "+ Relational or Comparision Operator (>,<,<=,>=,==,!=)\n",
    "+ Assignment Operator (+=,-=,*=,/=,**=,//=)\n",
    "+ Logical Operator (and ,or ,not)\n",
    "+ Bitwise Operator (&,|,^,>>,<<)\n",
    "+ Membership Operator (in,not in)\n",
    "+ Identity Operator (is,is not)"
   ]
  },
  {
   "cell_type": "code",
   "execution_count": 2,
   "metadata": {},
   "outputs": [
    {
     "name": "stdout",
     "output_type": "stream",
     "text": [
      "30\n",
      "-10\n",
      "200\n",
      "0.5\n",
      "10\n",
      "100000000000000000000\n",
      "100000000000000000000\n",
      "0\n"
     ]
    }
   ],
   "source": [
    "a=10\n",
    "b=20\n",
    "print(a+b)\n",
    "print(a-b)\n",
    "print(a*b)\n",
    "print(a/b)\n",
    "print(a%b)\n",
    "print(a**b)\n",
    "print(pow(10,20))\n",
    "print(a//b)"
   ]
  },
  {
   "cell_type": "code",
   "execution_count": 3,
   "metadata": {},
   "outputs": [
    {
     "name": "stdout",
     "output_type": "stream",
     "text": [
      "True\n",
      "False\n",
      "False\n",
      "True\n"
     ]
    }
   ],
   "source": [
    "# Relational Operators\n",
    "\n",
    "x=100\n",
    "y=90\n",
    "\n",
    "print(x>y)\n",
    "\n",
    "print(x<y)\n",
    "\n",
    "print(x==y)\n",
    "\n",
    "print(x!=y)"
   ]
  },
  {
   "cell_type": "code",
   "execution_count": 9,
   "metadata": {},
   "outputs": [
    {
     "name": "stdout",
     "output_type": "stream",
     "text": [
      "46656.0\n"
     ]
    }
   ],
   "source": [
    "# Assignment Operators\n",
    "\n",
    "p=10\n",
    "p+=40\n",
    "p-=20\n",
    "p*=2\n",
    "p/=3\n",
    "p//=3\n",
    "p**=6\n",
    "print(p)"
   ]
  },
  {
   "cell_type": "code",
   "execution_count": 10,
   "metadata": {},
   "outputs": [
    {
     "name": "stdout",
     "output_type": "stream",
     "text": [
      "False\n",
      "False\n",
      "False\n",
      "True\n"
     ]
    }
   ],
   "source": [
    "# Logical Operators\n",
    "# And\n",
    "print(False and False)\n",
    "print(False and True)\n",
    "print(True and False)\n",
    "print(True and True)"
   ]
  },
  {
   "cell_type": "code",
   "execution_count": 12,
   "metadata": {},
   "outputs": [
    {
     "name": "stdout",
     "output_type": "stream",
     "text": [
      "False\n",
      "True\n",
      "True\n",
      "True\n"
     ]
    }
   ],
   "source": [
    "# Or\n",
    "print(False or False)\n",
    "print(False or True)\n",
    "print(True or False)\n",
    "print(True or True)"
   ]
  },
  {
   "cell_type": "code",
   "execution_count": 13,
   "metadata": {},
   "outputs": [
    {
     "name": "stdout",
     "output_type": "stream",
     "text": [
      "True\n",
      "True\n",
      "True\n",
      "False\n"
     ]
    }
   ],
   "source": [
    "# Not\n",
    "print(not(False and False))\n",
    "print(not(False and True))\n",
    "print(not(True and False))\n",
    "print(not(True and True))"
   ]
  },
  {
   "cell_type": "code",
   "execution_count": 14,
   "metadata": {},
   "outputs": [
    {
     "name": "stdout",
     "output_type": "stream",
     "text": [
      "True\n",
      "False\n",
      "False\n",
      "False\n"
     ]
    }
   ],
   "source": [
    "# Not\n",
    "print(not(False or False))\n",
    "print(not(False or True))\n",
    "print(not(True or False))\n",
    "print(not(True or True))"
   ]
  },
  {
   "cell_type": "code",
   "execution_count": 17,
   "metadata": {},
   "outputs": [
    {
     "name": "stdout",
     "output_type": "stream",
     "text": [
      "True\n",
      "True\n",
      "False\n",
      "False\n",
      "True\n",
      "False\n"
     ]
    }
   ],
   "source": [
    "print(10>5 and 20>8)\n",
    "\n",
    "print(100<101 or 99>50)\n",
    "\n",
    "print(50>55 and 45<100)\n",
    "\n",
    "print(5==5 and 5!=5)\n",
    "\n",
    "print(5==5 or 5!=5)\n",
    "\n",
    "print(not(10==10 and 50!=49))"
   ]
  },
  {
   "cell_type": "code",
   "execution_count": 25,
   "metadata": {},
   "outputs": [
    {
     "name": "stdout",
     "output_type": "stream",
     "text": [
      "2\n",
      "15\n",
      "1\n"
     ]
    }
   ],
   "source": [
    "# Bitwise Operators\n",
    "\n",
    "print(2&2)\n",
    "print(10|5)\n",
    "print(5^4)"
   ]
  },
  {
   "cell_type": "code",
   "execution_count": 20,
   "metadata": {},
   "outputs": [
    {
     "data": {
      "text/plain": [
       "'0b10101'"
      ]
     },
     "execution_count": 20,
     "metadata": {},
     "output_type": "execute_result"
    }
   ],
   "source": [
    "bin(21)"
   ]
  },
  {
   "cell_type": "code",
   "execution_count": 26,
   "metadata": {},
   "outputs": [
    {
     "data": {
      "text/plain": [
       "'a'"
      ]
     },
     "execution_count": 26,
     "metadata": {},
     "output_type": "execute_result"
    }
   ],
   "source": [
    "ord('a')\n",
    "\n",
    "chr(97)"
   ]
  },
  {
   "cell_type": "code",
   "execution_count": 27,
   "metadata": {},
   "outputs": [
    {
     "data": {
      "text/plain": [
       "True"
      ]
     },
     "execution_count": 27,
     "metadata": {},
     "output_type": "execute_result"
    }
   ],
   "source": [
    "# Membership Operator\n",
    "\n",
    "a=\"Welcome to Python workshop\"\n",
    "\n",
    "'to' in a"
   ]
  },
  {
   "cell_type": "code",
   "execution_count": 28,
   "metadata": {},
   "outputs": [
    {
     "name": "stdout",
     "output_type": "stream",
     "text": [
      "True\n",
      "False\n"
     ]
    }
   ],
   "source": [
    "a=\"Welcome to Python workshop\"\n",
    "\n",
    "print('to' in a)\n",
    "\n",
    "print('to' not in a)"
   ]
  },
  {
   "cell_type": "code",
   "execution_count": 31,
   "metadata": {},
   "outputs": [
    {
     "name": "stdout",
     "output_type": "stream",
     "text": [
      "False\n",
      "True\n"
     ]
    }
   ],
   "source": [
    "# Identity Operator\n",
    "\n",
    "x=100\n",
    "y=1000\n",
    "print(x is y)\n",
    "\n",
    "print(x is not y)"
   ]
  },
  {
   "cell_type": "code",
   "execution_count": 32,
   "metadata": {},
   "outputs": [
    {
     "name": "stdout",
     "output_type": "stream",
     "text": [
      "10\n",
      "10\n",
      "10\n"
     ]
    }
   ],
   "source": [
    "a=b=c=10\n",
    "print(a)\n",
    "print(b)\n",
    "print(c)"
   ]
  },
  {
   "cell_type": "code",
   "execution_count": 34,
   "metadata": {},
   "outputs": [
    {
     "name": "stdout",
     "output_type": "stream",
     "text": [
      "10\n"
     ]
    }
   ],
   "source": [
    "a,b,c=10,20,30\n",
    "print(a)"
   ]
  },
  {
   "cell_type": "code",
   "execution_count": 35,
   "metadata": {},
   "outputs": [
    {
     "name": "stdout",
     "output_type": "stream",
     "text": [
      "10\n"
     ]
    }
   ],
   "source": [
    "a=10\n",
    "b=10\n",
    "print(a)"
   ]
  },
  {
   "cell_type": "code",
   "execution_count": 36,
   "metadata": {},
   "outputs": [
    {
     "name": "stdout",
     "output_type": "stream",
     "text": [
      "20\n"
     ]
    }
   ],
   "source": [
    "a=10\n",
    "a=20\n",
    "print(a)"
   ]
  },
  {
   "cell_type": "code",
   "execution_count": 2,
   "metadata": {},
   "outputs": [
    {
     "name": "stdout",
     "output_type": "stream",
     "text": [
      "Addition of two numbers is 30\n"
     ]
    }
   ],
   "source": [
    "a=10\n",
    "b=20\n",
    "c=a+b\n",
    "print(\"Addition of two numbers is\",c)"
   ]
  },
  {
   "cell_type": "code",
   "execution_count": 15,
   "metadata": {},
   "outputs": [
    {
     "name": "stdout",
     "output_type": "stream",
     "text": [
      "Addition of 10 + 20 = 30\n"
     ]
    }
   ],
   "source": [
    "a=10\n",
    "b=20\n",
    "print('Addition of',a,'+',b,'=',a+b)"
   ]
  },
  {
   "cell_type": "code",
   "execution_count": 16,
   "metadata": {},
   "outputs": [
    {
     "name": "stdout",
     "output_type": "stream",
     "text": [
      "Addition of 10 + 5 = 15\n"
     ]
    }
   ],
   "source": [
    "a=10\n",
    "b=5\n",
    "print('Addition of %d + %d = %d'%(a,b,a+b))"
   ]
  },
  {
   "cell_type": "code",
   "execution_count": 18,
   "metadata": {},
   "outputs": [
    {
     "name": "stdout",
     "output_type": "stream",
     "text": [
      "Mul of 1 * 3 = 3\n"
     ]
    }
   ],
   "source": [
    "a=1\n",
    "b=3\n",
    "print('Mul of {0} * {1} = {2}'.format(a,b,a*b))"
   ]
  },
  {
   "cell_type": "code",
   "execution_count": 20,
   "metadata": {},
   "outputs": [
    {
     "name": "stdout",
     "output_type": "stream",
     "text": [
      "Enter the x value:-3\n",
      "Enter the y value:-6\n",
      "Addition of 9\n"
     ]
    }
   ],
   "source": [
    "# Dynamic Values\n",
    "\n",
    "\n",
    "x=int(input('Enter the x value:-'))\n",
    "y=int(input('Enter the y value:-'))\n",
    "print('Addition of' ,x+y)"
   ]
  },
  {
   "cell_type": "markdown",
   "metadata": {},
   "source": [
    "# Expression\n",
    "\n",
    "\n",
    "\n",
    "1. Take 5 inputs from user\n",
    "\n",
    "2. to perform operation\n",
    "\n",
    "3. Store result in variable\n",
    "\n",
    "4. print final result\n",
    "\n"
   ]
  },
  {
   "cell_type": "code",
   "execution_count": 21,
   "metadata": {},
   "outputs": [
    {
     "name": "stdout",
     "output_type": "stream",
     "text": [
      "Enter the a value:-6\n",
      "Enter the b value:-8\n",
      "Enter the c value:-9\n",
      "Enter the d value:-4\n",
      "Enter the e value:-3\n",
      "Result is 48.75\n"
     ]
    }
   ],
   "source": [
    "a=int(input('Enter the a value:-'))\n",
    "b=int(input('Enter the b value:-'))\n",
    "c=int(input('Enter the c value:-'))\n",
    "d=int(input('Enter the d value:-'))\n",
    "e=int(input('Enter the e value:-'))\n",
    "f=a*b-c/d+e\n",
    "print('Result is',f)"
   ]
  },
  {
   "cell_type": "code",
   "execution_count": 22,
   "metadata": {},
   "outputs": [
    {
     "ename": "SyntaxError",
     "evalue": "invalid syntax (<ipython-input-22-4f5e3704fac0>, line 2)",
     "output_type": "error",
     "traceback": [
      "\u001b[1;36m  File \u001b[1;32m\"<ipython-input-22-4f5e3704fac0>\"\u001b[1;36m, line \u001b[1;32m2\u001b[0m\n\u001b[1;33m    1. Single line Comment\u001b[0m\n\u001b[1;37m       ^\u001b[0m\n\u001b[1;31mSyntaxError\u001b[0m\u001b[1;31m:\u001b[0m invalid syntax\n"
     ]
    }
   ],
   "source": [
    "# Comments in Python\n",
    "1. Single line Comment\n",
    "# Welcome to Python\n",
    "2. Multi line Comment\n",
    "''' '''or \"\"\" \"\"\"\n",
    "\n",
    "'\n",
    "'''\n",
    "Welcome to python\n",
    "Welcome to python\n",
    "Welcome to python'''"
   ]
  },
  {
   "cell_type": "code",
   "execution_count": 23,
   "metadata": {},
   "outputs": [
    {
     "data": {
      "text/plain": [
       "'\\nWelcome to python\\nWelcome to python\\nWelcome to python'"
      ]
     },
     "execution_count": 23,
     "metadata": {},
     "output_type": "execute_result"
    }
   ],
   "source": [
    "'''\n",
    "Welcome to python\n",
    "Welcome to python\n",
    "Welcome to python'''"
   ]
  },
  {
   "cell_type": "code",
   "execution_count": 24,
   "metadata": {},
   "outputs": [
    {
     "name": "stdout",
     "output_type": "stream",
     "text": [
      "\n",
      "Welcome to python\n",
      "Welcome to python\n",
      "Welcome to python\n"
     ]
    }
   ],
   "source": [
    "print('''\n",
    "Welcome to python\n",
    "Welcome to python\n",
    "Welcome to python''')"
   ]
  },
  {
   "cell_type": "markdown",
   "metadata": {},
   "source": [
    "# Conditional Statements\n",
    "\n",
    "+ if\n",
    "+ elif\n",
    "+ else\n",
    "\n",
    "# Syntax\n",
    "\n",
    "if condition:\n",
    "    statements\n",
    "elif condition:\n",
    "    statements\n",
    "else condition:\n",
    "    statements"
   ]
  },
  {
   "cell_type": "code",
   "execution_count": 26,
   "metadata": {},
   "outputs": [
    {
     "name": "stdout",
     "output_type": "stream",
     "text": [
      "Enter the value 7\n",
      "7 is Odd Number\n"
     ]
    }
   ],
   "source": [
    "n1=int(input('Enter the value '))\n",
    "if n1%2==0:\n",
    "    print(n1,'is Even Number')\n",
    "else:\n",
    "    print(n1,'is Odd Number')"
   ]
  },
  {
   "cell_type": "code",
   "execution_count": 27,
   "metadata": {},
   "outputs": [
    {
     "name": "stdout",
     "output_type": "stream",
     "text": [
      "Enter the value5\n",
      "5 is Odd number\n"
     ]
    }
   ],
   "source": [
    "n1=int(input('Enter the value'))\n",
    "if n1%2!=0: #n1%2=1\n",
    "    print(n1,'is Odd number')\n",
    "else:\n",
    "    print(n1,'is Even number')"
   ]
  },
  {
   "cell_type": "markdown",
   "metadata": {},
   "source": [
    "# Write a Program to Print Days\n",
    "\n",
    "#### User Take 0-7 numbers\n",
    "\n",
    "#### 0 is Sunday\n",
    "\n",
    "#### 7 is Saturday\n",
    "\n",
    "#### User can give And above 7--->print(Invalid day)\n",
    "\n",
    "# Take 2 Inputs from user\n",
    "\n",
    "## First input username\n",
    "\n",
    "## Second input Password\n",
    "\n",
    "## Both Condition is true\n",
    "\n",
    "### Print Welcome Current Username\n",
    "\n",
    "#### Otherwise Invalid Username or Password\n",
    "\n",
    "# Write a Program to print user given the values\n",
    "\n",
    "### User can Give the a-z or A-z --->Print Alphabet\n",
    "\n",
    "### User can Give the 0-9 --->Print digit\n",
    "\n",
    "### User can Give the @,#,$,%,^,()--->SpecialSymbol"
   ]
  },
  {
   "cell_type": "code",
   "execution_count": 29,
   "metadata": {
    "scrolled": true
   },
   "outputs": [
    {
     "data": {
      "text/plain": [
       "complex"
      ]
     },
     "execution_count": 29,
     "metadata": {},
     "output_type": "execute_result"
    }
   ],
   "source": [
    "c=2+3j\n",
    "type(c)"
   ]
  },
  {
   "cell_type": "code",
   "execution_count": 31,
   "metadata": {},
   "outputs": [
    {
     "data": {
      "text/plain": [
       "complex"
      ]
     },
     "execution_count": 31,
     "metadata": {},
     "output_type": "execute_result"
    }
   ],
   "source": [
    "d=complex(3,5)\n",
    "type(d)"
   ]
  },
  {
   "cell_type": "markdown",
   "metadata": {},
   "source": [
    "# Typecasting\n",
    "\n",
    "Conversion of one datatype to another datatype is called typecasting"
   ]
  },
  {
   "cell_type": "code",
   "execution_count": 32,
   "metadata": {},
   "outputs": [
    {
     "data": {
      "text/plain": [
       "'(2+3j)'"
      ]
     },
     "execution_count": 32,
     "metadata": {},
     "output_type": "execute_result"
    }
   ],
   "source": [
    "str(c)"
   ]
  },
  {
   "cell_type": "code",
   "execution_count": 33,
   "metadata": {},
   "outputs": [
    {
     "data": {
      "text/plain": [
       "'10'"
      ]
     },
     "execution_count": 33,
     "metadata": {},
     "output_type": "execute_result"
    }
   ],
   "source": [
    "a=10\n",
    "str(a)"
   ]
  },
  {
   "cell_type": "code",
   "execution_count": 34,
   "metadata": {},
   "outputs": [
    {
     "data": {
      "text/plain": [
       "1"
      ]
     },
     "execution_count": 34,
     "metadata": {},
     "output_type": "execute_result"
    }
   ],
   "source": [
    "s=1.5\n",
    "int(s)"
   ]
  },
  {
   "cell_type": "code",
   "execution_count": 38,
   "metadata": {},
   "outputs": [
    {
     "data": {
      "text/plain": [
       "1"
      ]
     },
     "execution_count": 38,
     "metadata": {},
     "output_type": "execute_result"
    }
   ],
   "source": [
    "s='1'\n",
    "int(s)"
   ]
  },
  {
   "cell_type": "code",
   "execution_count": 36,
   "metadata": {},
   "outputs": [
    {
     "data": {
      "text/plain": [
       "1.5"
      ]
     },
     "execution_count": 36,
     "metadata": {},
     "output_type": "execute_result"
    }
   ],
   "source": [
    "s='1.5'\n",
    "float(s)"
   ]
  },
  {
   "cell_type": "code",
   "execution_count": 37,
   "metadata": {},
   "outputs": [
    {
     "data": {
      "text/plain": [
       "1.0"
      ]
     },
     "execution_count": 37,
     "metadata": {},
     "output_type": "execute_result"
    }
   ],
   "source": [
    "s='1'\n",
    "float(s)"
   ]
  },
  {
   "cell_type": "code",
   "execution_count": 10,
   "metadata": {},
   "outputs": [
    {
     "name": "stdout",
     "output_type": "stream",
     "text": [
      "Enter the week Number:8\n",
      "Invalid day\n"
     ]
    }
   ],
   "source": [
    "a=int(input(\"Enter the week Number:\"))\n",
    "if(a == 0):\n",
    "    print(\"Sunday\")\n",
    "elif(a == 1):\n",
    "    print(\"Monday\")\n",
    "elif(a == 2):\n",
    "    print(\"Tuesday\")\n",
    "elif(a == 3):\n",
    "    print(\"Wednesday\")\n",
    "elif(a == 4):\n",
    "    print(\"Thursday\")\n",
    "elif(a == 5):\n",
    "    print(\"Friday\")\n",
    "elif(a == 6):\n",
    "    print(\"Saturday\")\n",
    "else:\n",
    "    print(\"Invalid day\")"
   ]
  },
  {
   "cell_type": "code",
   "execution_count": 17,
   "metadata": {},
   "outputs": [
    {
     "name": "stdout",
     "output_type": "stream",
     "text": [
      "Enter Username:Triveni\n",
      "Enter Password:triveni@01\n",
      "Welcome Triveni\n"
     ]
    }
   ],
   "source": [
    "Username=input(\"Enter Username:\")\n",
    "Password=input(\"Enter Password:\")\n",
    "if(Username == 'Triveni' and Password == 'triveni@01'):\n",
    "    print(\"Welcome %s\"%Username)\n",
    "else:\n",
    "    print(\"Invalid Username or Password\")\n"
   ]
  },
  {
   "cell_type": "code",
   "execution_count": null,
   "metadata": {},
   "outputs": [],
   "source": []
  }
 ],
 "metadata": {
  "kernelspec": {
   "display_name": "Python 3",
   "language": "python",
   "name": "python3"
  },
  "language_info": {
   "codemirror_mode": {
    "name": "ipython",
    "version": 3
   },
   "file_extension": ".py",
   "mimetype": "text/x-python",
   "name": "python",
   "nbconvert_exporter": "python",
   "pygments_lexer": "ipython3",
   "version": "3.8.5"
  }
 },
 "nbformat": 4,
 "nbformat_minor": 4
}
